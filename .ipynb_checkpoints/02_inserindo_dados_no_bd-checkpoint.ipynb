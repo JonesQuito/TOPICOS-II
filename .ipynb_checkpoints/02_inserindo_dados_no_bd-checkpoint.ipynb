{
 "cells": [
  {
   "cell_type": "code",
   "execution_count": 1,
   "metadata": {},
   "outputs": [
    {
     "name": "stdout",
     "output_type": "stream",
     "text": [
      "[nltk_data] Downloading package punkt to\n",
      "[nltk_data]     C:\\Users\\Jones\\AppData\\Roaming\\nltk_data...\n",
      "[nltk_data]   Package punkt is already up-to-date!\n",
      "[nltk_data] Downloading package stopwords to\n",
      "[nltk_data]     C:\\Users\\Jones\\AppData\\Roaming\\nltk_data...\n",
      "[nltk_data]   Package stopwords is already up-to-date!\n",
      "[nltk_data] Downloading package rslp to\n",
      "[nltk_data]     C:\\Users\\Jones\\AppData\\Roaming\\nltk_data...\n",
      "[nltk_data]   Package rslp is already up-to-date!\n"
     ]
    },
    {
     "data": {
      "text/plain": [
       "True"
      ]
     },
     "execution_count": 1,
     "metadata": {},
     "output_type": "execute_result"
    }
   ],
   "source": [
    "# Instalar os pacotes do nltk necessários para pré-processamento de textos.\n",
    "# Só é preciso executar se ainda não tiver os pacotes instalados\n",
    "import nltk\n",
    "\n",
    "nltk.download('punkt')\n",
    "nltk.download('stopwords') #Instala as listas de stopwords\n",
    "nltk.download('rslp') #Instala o stemmer português"
   ]
  },
  {
   "cell_type": "code",
   "execution_count": 3,
   "metadata": {},
   "outputs": [
    {
     "data": {
      "text/plain": [
       "['educacao', 'esporte', 'politica', 'religiao', 'saude']"
      ]
     },
     "execution_count": 3,
     "metadata": {},
     "output_type": "execute_result"
    }
   ],
   "source": [
    "# Obtem a lista de diretórios com os direfentes tipos de textos\n",
    "\n",
    "from modulos.file import getDirectories\n",
    "\n",
    "folderList = getDirectories('dataset_txt', 0)\n",
    "folderList"
   ]
  },
  {
   "cell_type": "code",
   "execution_count": 7,
   "metadata": {},
   "outputs": [],
   "source": [
    "import psycopg2\n",
    "from modulos.file import getFilesByType, cleaner\n",
    "\n",
    "for folder in folderList:\n",
    "    rootPath = 'dataset_txt/' + folder\n",
    "    paths = getFilesByType(rootPath, 'txt')\n",
    "    \n",
    "\n",
    "    con = psycopg2.connect(host='localhost', database='topicos_ii', user='postgres', password='postgres')\n",
    "    cursor = con.cursor()\n",
    "    for file in paths:\n",
    "        currentPath = rootPath+'/'+file\n",
    "        #print(currentPath)\n",
    "        texto = open(currentPath, 'r', encoding='utf-8').read()\n",
    "        texto = cleaner(texto)\n",
    "        sql = \"insert into database_text values (default, '\" + folder + \"', '\" + texto +\"')\"\n",
    "        cursor.execute(sql)\n",
    "        con.commit()\n",
    "    con.close()\n",
    "      \n",
    "        "
   ]
  },
  {
   "cell_type": "code",
   "execution_count": null,
   "metadata": {},
   "outputs": [],
   "source": []
  }
 ],
 "metadata": {
  "kernelspec": {
   "display_name": "Python 3",
   "language": "python",
   "name": "python3"
  },
  "language_info": {
   "codemirror_mode": {
    "name": "ipython",
    "version": 3
   },
   "file_extension": ".py",
   "mimetype": "text/x-python",
   "name": "python",
   "nbconvert_exporter": "python",
   "pygments_lexer": "ipython3",
   "version": "3.7.1"
  }
 },
 "nbformat": 4,
 "nbformat_minor": 2
}
