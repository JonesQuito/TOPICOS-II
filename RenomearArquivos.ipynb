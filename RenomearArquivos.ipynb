{
 "cells": [
  {
   "cell_type": "code",
   "execution_count": 22,
   "metadata": {},
   "outputs": [
    {
     "name": "stdout",
     "output_type": "stream",
     "text": [
      "1.txt\n",
      "2.txt\n",
      "3.txt\n",
      "4.txt\n",
      "5.txt\n",
      "6.txt\n",
      "7.txt\n",
      "8.txt\n",
      "9.txt\n",
      "10.txt\n",
      "11.txt\n",
      "12.txt\n",
      "13.txt\n",
      "14.txt\n",
      "15.txt\n",
      "16.txt\n",
      "17.txt\n",
      "18.txt\n",
      "19.txt\n",
      "20.txt\n",
      "21.txt\n",
      "22.txt\n",
      "23.txt\n",
      "24.txt\n",
      "25.txt\n",
      "26.txt\n",
      "27.txt\n",
      "28.txt\n",
      "29.txt\n",
      "30.txt\n",
      "31.txt\n",
      "32.txt\n",
      "33.txt\n",
      "34.txt\n",
      "35.txt\n",
      "36.txt\n",
      "37.txt\n",
      "38.txt\n",
      "39.txt\n",
      "40.txt\n",
      "41.txt\n",
      "42.txt\n",
      "43.txt\n",
      "44.txt\n",
      "45.txt\n",
      "46.txt\n",
      "47.txt\n",
      "48.txt\n",
      "49.txt\n",
      "50.txt\n",
      "51.txt\n",
      "52.txt\n",
      "53.txt\n",
      "54.txt\n",
      "55.txt\n",
      "56.txt\n",
      "57.txt\n"
     ]
    }
   ],
   "source": [
    "import os\n",
    "from modulos.teste import *\n",
    "\n",
    "\n",
    "pathRoot = 'dataset_txt/educacao/'\n",
    "\n",
    "fileNames = getAllFiles(pathRoot)\n",
    "count = 1\n",
    "for name in fileNames:\n",
    "    novoNome = str(count)+'.txt'\n",
    "    os.rename(pathRoot+name, pathRoot+novoNome)\n",
    "    print(str(count)+'.txt')\n",
    "    count += 1"
   ]
  },
  {
   "cell_type": "code",
   "execution_count": null,
   "metadata": {},
   "outputs": [],
   "source": [
    "os.rename(\"./arquivos/\"+nome, \"./arquivos/\"+novo_nome)"
   ]
  }
 ],
 "metadata": {
  "kernelspec": {
   "display_name": "Python 3",
   "language": "python",
   "name": "python3"
  },
  "language_info": {
   "codemirror_mode": {
    "name": "ipython",
    "version": 3
   },
   "file_extension": ".py",
   "mimetype": "text/x-python",
   "name": "python",
   "nbconvert_exporter": "python",
   "pygments_lexer": "ipython3",
   "version": "3.7.0b4"
  }
 },
 "nbformat": 4,
 "nbformat_minor": 2
}
