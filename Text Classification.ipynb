{
 "cells": [
  {
   "cell_type": "code",
   "execution_count": 1,
   "metadata": {},
   "outputs": [],
   "source": [
    "import psycopg2\n",
    "import pandas as pd\n",
    "\n",
    "con = psycopg2.connect(host='localhost', database='topicos_ii', user='postgres', password='postgres')\n",
    "cursor = con.cursor()\n",
    "\n",
    "df = pd.read_sql_query('select * from \"database_text\"',con=con)"
   ]
  },
  {
   "cell_type": "code",
   "execution_count": 2,
   "metadata": {},
   "outputs": [
    {
     "data": {
      "text/html": [
       "<div>\n",
       "<style scoped>\n",
       "    .dataframe tbody tr th:only-of-type {\n",
       "        vertical-align: middle;\n",
       "    }\n",
       "\n",
       "    .dataframe tbody tr th {\n",
       "        vertical-align: top;\n",
       "    }\n",
       "\n",
       "    .dataframe thead th {\n",
       "        text-align: right;\n",
       "    }\n",
       "</style>\n",
       "<table border=\"1\" class=\"dataframe\">\n",
       "  <thead>\n",
       "    <tr style=\"text-align: right;\">\n",
       "      <th></th>\n",
       "      <th>id</th>\n",
       "      <th>classe</th>\n",
       "      <th>narrativa</th>\n",
       "    </tr>\n",
       "  </thead>\n",
       "  <tbody>\n",
       "    <tr>\n",
       "      <th>0</th>\n",
       "      <td>1</td>\n",
       "      <td>religiao</td>\n",
       "      <td>O homem comum entende como sendo a sua religiã...</td>\n",
       "    </tr>\n",
       "    <tr>\n",
       "      <th>1</th>\n",
       "      <td>2</td>\n",
       "      <td>religiao</td>\n",
       "      <td>(...) ...o homem diviniza tudo o que fabrica,e...</td>\n",
       "    </tr>\n",
       "    <tr>\n",
       "      <th>2</th>\n",
       "      <td>3</td>\n",
       "      <td>religiao</td>\n",
       "      <td>O Ateu é Deus\\nDeus não existe (...) A salvaçã...</td>\n",
       "    </tr>\n",
       "    <tr>\n",
       "      <th>3</th>\n",
       "      <td>4</td>\n",
       "      <td>religiao</td>\n",
       "      <td>O Conflito entre o Conhecimento e a Fé\\nDurant...</td>\n",
       "    </tr>\n",
       "    <tr>\n",
       "      <th>4</th>\n",
       "      <td>5</td>\n",
       "      <td>religiao</td>\n",
       "      <td>A Religião e o Jornalismo São as Únicas Forças...</td>\n",
       "    </tr>\n",
       "  </tbody>\n",
       "</table>\n",
       "</div>"
      ],
      "text/plain": [
       "   id    classe                                          narrativa\n",
       "0   1  religiao  O homem comum entende como sendo a sua religiã...\n",
       "1   2  religiao  (...) ...o homem diviniza tudo o que fabrica,e...\n",
       "2   3  religiao  O Ateu é Deus\\nDeus não existe (...) A salvaçã...\n",
       "3   4  religiao  O Conflito entre o Conhecimento e a Fé\\nDurant...\n",
       "4   5  religiao  A Religião e o Jornalismo São as Únicas Forças..."
      ]
     },
     "execution_count": 2,
     "metadata": {},
     "output_type": "execute_result"
    }
   ],
   "source": [
    "df.head()"
   ]
  },
  {
   "cell_type": "code",
   "execution_count": 3,
   "metadata": {},
   "outputs": [
    {
     "data": {
      "text/html": [
       "<div>\n",
       "<style scoped>\n",
       "    .dataframe tbody tr th:only-of-type {\n",
       "        vertical-align: middle;\n",
       "    }\n",
       "\n",
       "    .dataframe tbody tr th {\n",
       "        vertical-align: top;\n",
       "    }\n",
       "\n",
       "    .dataframe thead th {\n",
       "        text-align: right;\n",
       "    }\n",
       "</style>\n",
       "<table border=\"1\" class=\"dataframe\">\n",
       "  <thead>\n",
       "    <tr style=\"text-align: right;\">\n",
       "      <th></th>\n",
       "      <th>classe</th>\n",
       "      <th>narrativa</th>\n",
       "      <th>categoria_id</th>\n",
       "    </tr>\n",
       "  </thead>\n",
       "  <tbody>\n",
       "    <tr>\n",
       "      <th>0</th>\n",
       "      <td>religiao</td>\n",
       "      <td>O homem comum entende como sendo a sua religiã...</td>\n",
       "      <td>0</td>\n",
       "    </tr>\n",
       "    <tr>\n",
       "      <th>1</th>\n",
       "      <td>religiao</td>\n",
       "      <td>(...) ...o homem diviniza tudo o que fabrica,e...</td>\n",
       "      <td>0</td>\n",
       "    </tr>\n",
       "    <tr>\n",
       "      <th>2</th>\n",
       "      <td>religiao</td>\n",
       "      <td>O Ateu é Deus\\nDeus não existe (...) A salvaçã...</td>\n",
       "      <td>0</td>\n",
       "    </tr>\n",
       "    <tr>\n",
       "      <th>3</th>\n",
       "      <td>religiao</td>\n",
       "      <td>O Conflito entre o Conhecimento e a Fé\\nDurant...</td>\n",
       "      <td>0</td>\n",
       "    </tr>\n",
       "    <tr>\n",
       "      <th>4</th>\n",
       "      <td>religiao</td>\n",
       "      <td>A Religião e o Jornalismo São as Únicas Forças...</td>\n",
       "      <td>0</td>\n",
       "    </tr>\n",
       "  </tbody>\n",
       "</table>\n",
       "</div>"
      ],
      "text/plain": [
       "     classe                                          narrativa  categoria_id\n",
       "0  religiao  O homem comum entende como sendo a sua religiã...             0\n",
       "1  religiao  (...) ...o homem diviniza tudo o que fabrica,e...             0\n",
       "2  religiao  O Ateu é Deus\\nDeus não existe (...) A salvaçã...             0\n",
       "3  religiao  O Conflito entre o Conhecimento e a Fé\\nDurant...             0\n",
       "4  religiao  A Religião e o Jornalismo São as Únicas Forças...             0"
      ]
     },
     "execution_count": 3,
     "metadata": {},
     "output_type": "execute_result"
    }
   ],
   "source": [
    "from io import StringIO\n",
    "\n",
    "col = ['classe', 'narrativa']\n",
    "df = df[col]\n",
    "\n",
    "df = df[pd.notnull(df['narrativa'])]\n",
    "df.columns = ['classe', 'narrativa']\n",
    "df['categoria_id'] = df['classe'].factorize()[0]\n",
    "categoria_id_df = df[['classe', 'categoria_id']].drop_duplicates().sort_values('categoria_id')\n",
    "categoria_para_id = dict(categoria_id_df.values)\n",
    "id_para_categoria = dict(categoria_id_df[['categoria_id', 'classe']].values)\n",
    "df.head()"
   ]
  },
  {
   "cell_type": "code",
   "execution_count": 5,
   "metadata": {},
   "outputs": [
    {
     "data": {
      "image/png": "[encoded data removed]",
      "text/plain": [
       "<Figure size 576x432 with 1 Axes>"
      ]
     },
     "metadata": {
      "needs_background": "light"
     },
     "output_type": "display_data"
    }
   ],
   "source": [
    "import matplotlib.pyplot as plt\n",
    "\n",
    "fig = plt.figure(figsize=(8,6))\n",
    "df.groupby('classe').narrativa.count().plot.bar(ylim=0)\n",
    "plt.show()"
   ]
  },
  {
   "cell_type": "code",
   "execution_count": 6,
   "metadata": {},
   "outputs": [
    {
     "data": {
      "text/plain": [
       "(279, 3262)"
      ]
     },
     "execution_count": 6,
     "metadata": {},
     "output_type": "execute_result"
    }
   ],
   "source": [
    "from sklearn.feature_extraction.text import TfidfVectorizer\n",
    "\n",
    "tfidf = TfidfVectorizer(sublinear_tf=True, min_df=5, norm='l2', encoding='latin-1', ngram_range=(1, 2), stop_words='english')\n",
    "features = tfidf.fit_transform(df.narrativa).toarray()\n",
    "labels = df.categoria_id\n",
    "features.shape\n"
   ]
  },
  {
   "cell_type": "code",
   "execution_count": 7,
   "metadata": {},
   "outputs": [
    {
     "name": "stdout",
     "output_type": "stream",
     "text": [
      "# 'educacao':\n",
      "  . Most correlated unigrams:\n",
      ". alunos\n",
      ". educação\n",
      "  . Most correlated bigrams:\n",
      ". os alunos\n",
      ". da educação\n",
      "# 'esporte':\n",
      "  . Most correlated unigrams:\n",
      ". gol\n",
      ". jogo\n",
      "  . Most correlated bigrams:\n",
      ". dos campeões\n",
      ". liga dos\n",
      "# 'politica':\n",
      "  . Most correlated unigrams:\n",
      ". bolsonaro\n",
      ". candidato\n",
      "  . Most correlated bigrams:\n",
      ". da república\n",
      ". jair bolsonaro\n",
      "# 'religiao':\n",
      "  . Most correlated unigrams:\n",
      ". religiões\n",
      ". religião\n",
      "  . Most correlated bigrams:\n",
      ". da religião\n",
      ". uma religião\n",
      "# 'saude':\n",
      "  . Most correlated unigrams:\n",
      ". pra\n",
      ". saúde\n",
      "  . Most correlated bigrams:\n",
      ". saúde que\n",
      ". melhor que\n"
     ]
    }
   ],
   "source": [
    "from sklearn.feature_selection import chi2\n",
    "import numpy as np\n",
    "\n",
    "N = 2\n",
    "for classe, categoria_id in sorted(categoria_para_id.items()):\n",
    "  features_chi2 = chi2(features, labels == categoria_id)\n",
    "  indices = np.argsort(features_chi2[0])\n",
    "  feature_names = np.array(tfidf.get_feature_names())[indices]\n",
    "  unigrams = [v for v in feature_names if len(v.split(' ')) == 1]\n",
    "  bigrams = [v for v in feature_names if len(v.split(' ')) == 2]\n",
    "  print(\"# '{}':\".format(classe))\n",
    "  print(\"  . Most correlated unigrams:\\n. {}\".format('\\n. '.join(unigrams[-N:])))\n",
    "  print(\"  . Most correlated bigrams:\\n. {}\".format('\\n. '.join(bigrams[-N:])))"
   ]
  },
  {
   "cell_type": "code",
   "execution_count": 8,
   "metadata": {},
   "outputs": [],
   "source": [
    "from sklearn.model_selection import train_test_split\n",
    "from sklearn.feature_extraction.text import CountVectorizer\n",
    "from sklearn.feature_extraction.text import TfidfTransformer\n",
    "from sklearn.naive_bayes import MultinomialNB\n",
    "\n",
    "X_train, X_test, y_train, y_test = train_test_split(df['narrativa'], df['classe'], random_state = 0)\n",
    "count_vect = CountVectorizer()\n",
    "X_train_counts = count_vect.fit_transform(X_train)\n",
    "tfidf_transformer = TfidfTransformer()\n",
    "X_train_tfidf = tfidf_transformer.fit_transform(X_train_counts)\n",
    "clf = MultinomialNB().fit(X_train_tfidf, y_train)\n",
    "\n"
   ]
  },
  {
   "cell_type": "code",
   "execution_count": 9,
   "metadata": {},
   "outputs": [
    {
     "name": "stdout",
     "output_type": "stream",
     "text": [
      "['religiao']\n"
     ]
    }
   ],
   "source": [
    "texto = 'A religião é um conjunto de símbolos e rituais que possuem significados amparados pela crença de um grupo de fieis que se identificam com a organização religiosa.'\n",
    "print(clf.predict(count_vect.transform([texto])))"
   ]
  },
  {
   "cell_type": "code",
   "execution_count": 10,
   "metadata": {},
   "outputs": [
    {
     "name": "stdout",
     "output_type": "stream",
     "text": [
      "['educacao']\n"
     ]
    }
   ],
   "source": [
    "texto = 'Nascido em 1933, Rubem Alves se dedicou a diversas atividades durante a vida: foi teólogo, psicanalista, educador e escritor. Foi usando principalmente os dois últimos interesses que o mineiro escreveu para a Revista Educação por sete anos, entre 2005 e 2012. Uma falência múltipla de órgãos o levou à morte em 19 de julho de 2014, aos 81 anos.'\n",
    "print(clf.predict(count_vect.transform([texto])))"
   ]
  },
  {
   "cell_type": "code",
   "execution_count": 25,
   "metadata": {},
   "outputs": [
    {
     "name": "stdout",
     "output_type": "stream",
     "text": [
      "['saude']\n"
     ]
    }
   ],
   "source": [
    "texto = 'cuidados com a saúde pública são relagados pra segundo plano'\n",
    "print(clf.predict(count_vect.transform([texto])))"
   ]
  }
 ],
 "metadata": {
  "kernelspec": {
   "display_name": "Python 3",
   "language": "python",
   "name": "python3"
  },
  "language_info": {
   "codemirror_mode": {
    "name": "ipython",
    "version": 3
   },
   "file_extension": ".py",
   "mimetype": "text/x-python",
   "name": "python",
   "nbconvert_exporter": "python",
   "pygments_lexer": "ipython3",
   "version": "3.7.0b4"
  }
 },
 "nbformat": 4,
 "nbformat_minor": 2
}
