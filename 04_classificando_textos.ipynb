{
 "cells": [
  {
   "cell_type": "markdown",
   "metadata": {},
   "source": [
    "## Treinando o classificador e classificando novos documentos\n",
    "\n",
    "Este é o passo quatro do processo de classificação de textos"
   ]
  },
  {
   "cell_type": "code",
   "execution_count": 4,
   "metadata": {},
   "outputs": [],
   "source": [
    "import psycopg2\n",
    "import pandas as pd\n",
    "from modulos.file import cleaner\n",
    "\n",
    "con = psycopg2.connect(host='localhost', database='topicos_ii', user='postgres', password='postgres')\n",
    "df = pd.read_sql_query(\"select * from database_text\",con=con)"
   ]
  },
  {
   "cell_type": "code",
   "execution_count": 5,
   "metadata": {},
   "outputs": [],
   "source": [
    "# Determina que o DataFrame terá apenas as colunas 'classe' e 'narrativa'\n",
    "\n",
    "col = ['classe', 'narrativa']\n",
    "df = df[col]\n",
    "\n",
    "df = df[pd.notnull(df['narrativa'])] # Elimina linhas onde narrativa seja null\n",
    "df.columns = ['classe', 'narrativa']\n",
    "df['categoria_id'] = df['classe'].factorize()[0]\n",
    "categoria_id_df = df[['classe', 'categoria_id']].drop_duplicates().sort_values('categoria_id')\n",
    "categoria_para_id = dict(categoria_id_df.values)\n",
    "id_para_categoria = dict(categoria_id_df[['categoria_id', 'classe']].values)"
   ]
  },
  {
   "cell_type": "code",
   "execution_count": 6,
   "metadata": {},
   "outputs": [],
   "source": [
    "from sklearn.model_selection import train_test_split\n",
    "from sklearn.feature_extraction.text import CountVectorizer\n",
    "from sklearn.feature_extraction.text import TfidfTransformer\n",
    "\n",
    "from sklearn.naive_bayes import MultinomialNB\n",
    "from sklearn.svm import LinearSVC\n",
    "\n",
    "X_train, X_test, y_train, y_test = train_test_split(df['narrativa'], df['classe'], random_state = 0)\n",
    "count_vect = CountVectorizer()\n",
    "X_train_counts = count_vect.fit_transform(X_train)\n",
    "tfidf_transformer = TfidfTransformer()\n",
    "X_train_tfidf = tfidf_transformer.fit_transform(X_train_counts)\n",
    "\n",
    "clf = MultinomialNB().fit(X_train_tfidf, y_train)\n",
    "clfLSVC = LinearSVC().fit(X_train_tfidf, y_train)"
   ]
  },
  {
   "cell_type": "code",
   "execution_count": 7,
   "metadata": {},
   "outputs": [
    {
     "name": "stdout",
     "output_type": "stream",
     "text": [
      "['educacao']\n",
      "['educacao']\n"
     ]
    }
   ],
   "source": [
    "texto = texto = \"escol part vai vot câm nest quartaest prev quartaf paut câm deput vot projet lei escol part pl comiss espec cri avali projet vai vot parec rela deput flav pscsp apresent text substitu oit projet discorr sobr temá tramit conjunto propost prev cad sal aul ca (...)\"\n",
    "print(clf.predict(count_vect.transform([texto])))\n",
    "print(clfLSVC.predict(count_vect.transform([texto])))"
   ]
  },
  {
   "cell_type": "code",
   "execution_count": 8,
   "metadata": {},
   "outputs": [
    {
     "name": "stdout",
     "output_type": "stream",
     "text": [
      "['saude']\n",
      "['saude']\n"
     ]
    }
   ],
   "source": [
    "texto = \"ano nov vem aíam vc sent paz vc faz saúd depend algum hábit quer permit permit sent nov sab nov am nov corp nov boc nov emoç paixõesp velh além histór\"\n",
    "print(clf.predict(count_vect.transform([texto])))\n",
    "print(clfLSVC.predict(count_vect.transform([texto])))"
   ]
  },
  {
   "cell_type": "code",
   "execution_count": 9,
   "metadata": {},
   "outputs": [
    {
     "name": "stdout",
     "output_type": "stream",
     "text": [
      "['esporte']\n",
      "['esporte']\n"
     ]
    }
   ],
   "source": [
    "texto = \"ney franc destac evoluç goi turn prev jog dur contr ponte vid goi mud complet turn ganh atléticog oit rod tim esmeraldin som prim vitór campeonat brasil aind amarg zon rebaix pont atrás líd fortal fic derrot pont pret campinasnest sext venc macac olímp ver (...)\"\n",
    "print(clf.predict(count_vect.transform([texto])))\n",
    "print(clfLSVC.predict(count_vect.transform([texto])))"
   ]
  },
  {
   "cell_type": "code",
   "execution_count": 10,
   "metadata": {},
   "outputs": [
    {
     "name": "stdout",
     "output_type": "stream",
     "text": [
      "['esporte']\n",
      "['esporte']\n"
     ]
    }
   ],
   "source": [
    "texto = 'Cumprindo tabela na Série B, Guarani busca recuperar o \"bom\" futebol e o caminho da vitória Equipe, que não vence a cinco jogos, terá três alterações para o duelo com o Coritiba'\n",
    "texto, x = cleaner(texto)\n",
    "print(clf.predict(count_vect.transform([texto])))\n",
    "print(clfLSVC.predict(count_vect.transform([texto])))"
   ]
  },
  {
   "cell_type": "code",
   "execution_count": 11,
   "metadata": {},
   "outputs": [
    {
     "name": "stdout",
     "output_type": "stream",
     "text": [
      "['religiao']\n",
      "['religiao']\n"
     ]
    }
   ],
   "source": [
    "texto = 'As igrejas tem buscado desenvolver a religiosidade das pessoas'\n",
    "texto, x = cleaner(texto)\n",
    "print(clf.predict(count_vect.transform([texto])))\n",
    "print(clfLSVC.predict(count_vect.transform([texto])))"
   ]
  },
  {
   "cell_type": "code",
   "execution_count": 12,
   "metadata": {},
   "outputs": [
    {
     "name": "stdout",
     "output_type": "stream",
     "text": [
      "['politica']\n",
      "['politica']\n"
     ]
    }
   ],
   "source": [
    "texto = 'As eleições presidenciais de 2018 foram acirradas as pessoas votaram com muita convicção em seus candidatos. Os ânimos estavam exaltados e muitas confusões se sucederam'\n",
    "texto, x = cleaner(texto)\n",
    "print(clf.predict(count_vect.transform([texto])))\n",
    "print(clfLSVC.predict(count_vect.transform([texto])))"
   ]
  },
  {
   "cell_type": "code",
   "execution_count": 13,
   "metadata": {},
   "outputs": [
    {
     "name": "stdout",
     "output_type": "stream",
     "text": [
      "['saude']\n",
      "['saude']\n"
     ]
    }
   ],
   "source": [
    "texto = 'Um dos canais para o cidadão entrar em contato com a Ouvidoria é o Disque Saúde 136, onde o usuário pode manifestar suas reclamações, sugestões e elogios, além de solicitar informações sobre saúde, doenças, medicamentos e campanhas realizadas pelo Ministério da Saúde.'\n",
    "texto,x = cleaner(texto)\n",
    "print(clf.predict(count_vect.transform([texto])))\n",
    "print(clfLSVC.predict(count_vect.transform([texto])))\n"
   ]
  },
  {
   "cell_type": "code",
   "execution_count": 14,
   "metadata": {},
   "outputs": [
    {
     "name": "stdout",
     "output_type": "stream",
     "text": [
      "['educacao']\n",
      "['educacao']\n"
     ]
    }
   ],
   "source": [
    "texto = 'Recebi um telefonema que dizia ser do Portal Educação. Dizia que tinha sido sorteada para um curso dcapacitaçapo Que tinha suido a secretaria de ensino. Depois de muita insistência, aceitei. Depois descobri que podia ser [Editado pelo Reclame Aqui] e quus cancelar. Só que tento falar com a atendente Luany Gabrieli de Souza E ela nao retorna .Falei com o site do portal educaçao e disseram q nap tinha cadastro lá. E tem tambem a mundial editora. Só que com eles eu já resolvi ,graças a Deus. Tenho cadastro ou nao ? Sofri [Editado pelo Reclame Aqui] ?'\n",
    "texto,x = cleaner(texto)\n",
    "print(clf.predict(count_vect.transform([texto])))\n",
    "print(clfLSVC.predict(count_vect.transform([texto])))"
   ]
  },
  {
   "cell_type": "code",
   "execution_count": 27,
   "metadata": {},
   "outputs": [
    {
     "name": "stdout",
     "output_type": "stream",
     "text": [
      "['esporte']\n",
      "['esporte']\n"
     ]
    }
   ],
   "source": [
    "texto = 'jones'\n",
    "texto,x = cleaner(texto)\n",
    "print(clf.predict(count_vect.transform([texto])))\n",
    "print(clfLSVC.predict(count_vect.transform([texto])))"
   ]
  }
 ],
 "metadata": {
  "kernelspec": {
   "display_name": "Python 3",
   "language": "python",
   "name": "python3"
  },
  "language_info": {
   "codemirror_mode": {
    "name": "ipython",
    "version": 3
   },
   "file_extension": ".py",
   "mimetype": "text/x-python",
   "name": "python",
   "nbconvert_exporter": "python",
   "pygments_lexer": "ipython3",
   "version": "3.7.1"
  }
 },
 "nbformat": 4,
 "nbformat_minor": 2
}
