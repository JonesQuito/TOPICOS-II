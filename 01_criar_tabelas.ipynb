{
 "cells": [
  {
   "cell_type": "markdown",
   "metadata": {},
   "source": [
    "### Criar as tabelas necessárias para armazenar o cojunto de textos\n",
    "As células a seguir criam as tabelas `database_text` e `classe` para armazenar o dataset de textos de treinamento e as classes respectivamente.\n",
    "`create table database_text(id serial, classe varchar(50), narrativa text)` e `create table classe(id serial, nome varchar(50), descricao text)`. Para tal, presume-se que o postres esteja instalado em `localhost` e que exista um banco chamado `topicos_ii`, um usuário `postgres` com a senha `postgres` "
   ]
  },
  {
   "cell_type": "code",
   "execution_count": 1,
   "metadata": {},
   "outputs": [],
   "source": [
    "import psycopg2\n",
    "\n",
    "con = psycopg2.connect(host='localhost', database='topicos_ii', user='postgres', password='postgres')\n",
    "cursor = con.cursor()\n",
    "sql = 'create table database_text(id serial, classe varchar(50), narrativa text)'\n",
    "cursor.execute(sql)\n",
    "con.commit()\n",
    "con.close()"
   ]
  }
 ],
 "metadata": {
  "kernelspec": {
   "display_name": "Python 3",
   "language": "python",
   "name": "python3"
  },
  "language_info": {
   "codemirror_mode": {
    "name": "ipython",
    "version": 3
   },
   "file_extension": ".py",
   "mimetype": "text/x-python",
   "name": "python",
   "nbconvert_exporter": "python",
   "pygments_lexer": "ipython3",
   "version": "3.7.1"
  }
 },
 "nbformat": 4,
 "nbformat_minor": 2
}
