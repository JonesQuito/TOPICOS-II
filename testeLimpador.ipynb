{
 "cells": [
  {
   "cell_type": "code",
   "execution_count": 18,
   "metadata": {},
   "outputs": [],
   "source": [
    "import psycopg2\n",
    "#from modulos.clearText import cleaner\n",
    "from modulos.teste import *\n",
    "import pandas as pd\n",
    "\n",
    "rootPath = 'dataset_txt/educacao/'\n",
    "paths = getFilesByType(rootPath, 'txt')\n",
    "textos = []\n",
    "con = psycopg2.connect(host='localhost', database='topicos_ii', user='postgres', password='postgres')\n",
    "cursor = con.cursor()\n",
    "\n",
    "for p in paths:\n",
    "    texto = open(rootPath + p, 'r', encoding='utf-8').read()\n",
    "    #texto = texto.replace(\"'\", '')\n",
    "    texto = cleaner(texto)\n",
    "    sql = \"insert into database_text values (default, 'educacao_clear', '\" + texto +\"')\"\n",
    "    cursor.execute(sql)\n",
    "    con.commit()\n",
    "paths.sort()\n",
    "con.close()\n"
   ]
  },
  {
   "cell_type": "code",
   "execution_count": 46,
   "metadata": {},
   "outputs": [],
   "source": [
    "import pandas as pd\n",
    "\n",
    "con = psycopg2.connect(host='localhost', database='topicos_ii', user='postgres', password='postgres')\n",
    "df = pd.read_sql_query(\"select * from database_text where classe like '%_clear'\",con=con)\n"
   ]
  },
  {
   "cell_type": "code",
   "execution_count": 47,
   "metadata": {},
   "outputs": [],
   "source": [
    "from io import StringIO\n",
    "\n",
    "col = ['classe', 'narrativa']\n",
    "df = df[col]\n",
    "\n",
    "df = df[pd.notnull(df['narrativa'])]\n",
    "df.columns = ['classe', 'narrativa']\n",
    "df['categoria_id'] = df['classe'].factorize()[0]\n",
    "categoria_id_df = df[['classe', 'categoria_id']].drop_duplicates().sort_values('categoria_id')\n",
    "categoria_para_id = dict(categoria_id_df.values)\n",
    "id_para_categoria = dict(categoria_id_df[['categoria_id', 'classe']].values)\n"
   ]
  },
  {
   "cell_type": "code",
   "execution_count": 48,
   "metadata": {},
   "outputs": [
    {
     "data": {
      "image/png": "[encoded data removed]",
      "text/plain": [
       "<Figure size 576x432 with 1 Axes>"
      ]
     },
     "metadata": {
      "needs_background": "light"
     },
     "output_type": "display_data"
    }
   ],
   "source": [
    "import matplotlib.pyplot as plt\n",
    "\n",
    "fig = plt.figure(figsize=(8,6))\n",
    "df.groupby('classe').narrativa.count().plot.bar(ylim=0)\n",
    "plt.show()"
   ]
  },
  {
   "cell_type": "code",
   "execution_count": 49,
   "metadata": {},
   "outputs": [],
   "source": [
    "from sklearn.model_selection import train_test_split\n",
    "from sklearn.feature_extraction.text import CountVectorizer\n",
    "from sklearn.feature_extraction.text import TfidfTransformer\n",
    "from sklearn.naive_bayes import MultinomialNB\n",
    "\n",
    "X_train, X_test, y_train, y_test = train_test_split(df['narrativa'], df['classe'], random_state = 0)\n",
    "count_vect = CountVectorizer()\n",
    "X_train_counts = count_vect.fit_transform(X_train)\n",
    "tfidf_transformer = TfidfTransformer()\n",
    "X_train_tfidf = tfidf_transformer.fit_transform(X_train_counts)\n",
    "clf = MultinomialNB().fit(X_train_tfidf, y_train)"
   ]
  },
  {
   "cell_type": "code",
   "execution_count": 50,
   "metadata": {},
   "outputs": [
    {
     "name": "stdout",
     "output_type": "stream",
     "text": [
      "['educacao_clear']\n"
     ]
    }
   ],
   "source": [
    "texto = texto = \"escol part vai vot câm nest quartaest prev quartaf paut câm deput vot projet lei escol part pl comiss espec cri avali projet vai vot parec rela deput flav pscsp apresent text substitu oit projet discorr sobr temá tramit conjunto propost prev cad sal aul ca (...)\"\n",
    "print(clf.predict(count_vect.transform([texto])))"
   ]
  },
  {
   "cell_type": "code",
   "execution_count": 51,
   "metadata": {},
   "outputs": [
    {
     "name": "stdout",
     "output_type": "stream",
     "text": [
      "['saude_clear']\n"
     ]
    }
   ],
   "source": [
    "texto = \"ano nov vem aíam vc sent paz vc faz saúd depend algum hábit quer permit permit sent nov sab nov am nov corp nov boc nov emoç paixõesp velh além histór\"\n",
    "print(clf.predict(count_vect.transform([texto])))"
   ]
  },
  {
   "cell_type": "code",
   "execution_count": 52,
   "metadata": {},
   "outputs": [
    {
     "name": "stdout",
     "output_type": "stream",
     "text": [
      "['esporte_clear']\n"
     ]
    }
   ],
   "source": [
    "texto = \"ney franc destac evoluç goi turn prev jog dur contr ponte vid goi mud complet turn ganh atléticog oit rod tim esmeraldin som prim vitór campeonat brasil aind amarg zon rebaix pont atrás líd fortal fic derrot pont pret campinasnest sext venc macac olímp ver (...)\"\n",
    "print(clf.predict(count_vect.transform([texto])))"
   ]
  },
  {
   "cell_type": "code",
   "execution_count": 57,
   "metadata": {},
   "outputs": [
    {
     "name": "stdout",
     "output_type": "stream",
     "text": [
      "['esporte_clear']\n"
     ]
    }
   ],
   "source": [
    "texto = 'Cumprindo tabela na Série B, Guarani busca recuperar o \"bom\" futebol e o caminho da vitória Equipe, que não vence a cinco jogos, terá três alterações para o duelo com o Coritiba'\n",
    "texto = cleaner(texto)\n",
    "print(clf.predict(count_vect.transform([texto])))"
   ]
  },
  {
   "cell_type": "code",
   "execution_count": 59,
   "metadata": {},
   "outputs": [
    {
     "name": "stdout",
     "output_type": "stream",
     "text": [
      "['religiao_clear']\n"
     ]
    }
   ],
   "source": [
    "texto = 'As igrejas tem buscado desenvolver a religiosidade das pessoas'\n",
    "texto = cleaner(texto)\n",
    "print(clf.predict(count_vect.transform([texto])))"
   ]
  },
  {
   "cell_type": "code",
   "execution_count": 63,
   "metadata": {},
   "outputs": [
    {
     "name": "stdout",
     "output_type": "stream",
     "text": [
      "['politica_clear']\n"
     ]
    }
   ],
   "source": [
    "texto = 'As eleições presidenciais de 2018 foram acirradas as pessoas votaram com muita convicção em seus candidatos. Os ânimos estavam exaltados e muitas confusões se sucederam'\n",
    "texto = cleaner(texto)\n",
    "print(clf.predict(count_vect.transform([texto])))"
   ]
  }
 ],
 "metadata": {
  "kernelspec": {
   "display_name": "Python 3",
   "language": "python",
   "name": "python3"
  },
  "language_info": {
   "codemirror_mode": {
    "name": "ipython",
    "version": 3
   },
   "file_extension": ".py",
   "mimetype": "text/x-python",
   "name": "python",
   "nbconvert_exporter": "python",
   "pygments_lexer": "ipython3",
   "version": "3.7.1"
  }
 },
 "nbformat": 4,
 "nbformat_minor": 2
}
